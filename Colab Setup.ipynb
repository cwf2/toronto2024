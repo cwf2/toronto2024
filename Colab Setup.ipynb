{
 "cells": [
  {
   "cell_type": "markdown",
   "id": "a1e1f22f",
   "metadata": {},
   "source": [
    "# Setting up Google Colab environment\n",
    "\n",
    "To run DICES examples in Google Colab, we have to download the `dices-examples` git repo to the virtual machine environment Google has set up for us. After you clone the repository, you should be able to run local copies of all the example notebooks. Look for the file browser panel on the left side of the screen."
   ]
  },
  {
   "cell_type": "code",
   "execution_count": null,
   "id": "98c895b7",
   "metadata": {},
   "outputs": [],
   "source": [
    "# install DICES client\n",
    "!pip install git+https://github.com/cwf2/dices-client"
   ]
  }
 ],
 "metadata": {
  "kernelspec": {
   "display_name": "Python 3 (ipykernel)",
   "language": "python",
   "name": "python3"
  },
  "language_info": {
   "codemirror_mode": {
    "name": "ipython",
    "version": 3
   },
   "file_extension": ".py",
   "mimetype": "text/x-python",
   "name": "python",
   "nbconvert_exporter": "python",
   "pygments_lexer": "ipython3",
   "version": "3.10.12"
  }
 },
 "nbformat": 4,
 "nbformat_minor": 5
}
