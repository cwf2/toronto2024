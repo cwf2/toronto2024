{
  "cells": [
    {
      "cell_type": "markdown",
      "source": [
        "<a target=\"_blank\" href=\"https://colab.research.google.com/github/cwf2/toronto2024/blob/main/Ex_01%20-%20Data%20Structures.ipynb\">\n",
        "  <img src=\"https://colab.research.google.com/assets/colab-badge.svg\" alt=\"Open In Colab\"/>\n",
        "</a>"
      ],
      "metadata": {
        "id": "9MZZoTNopXxk"
      },
      "id": "9MZZoTNopXxk"
    },
    {
      "cell_type": "markdown",
      "id": "54f9cf80-a0fd-41a5-a7ab-1a7a69c7b24c",
      "metadata": {
        "id": "54f9cf80-a0fd-41a5-a7ab-1a7a69c7b24c"
      },
      "source": [
        "# Introduction to the Python DICES client\n",
        "\n",
        "In this workshop, we’re going to look at how to retrieve and work with DICES data inside a Python script. While the DICES web interface can be helpful for browsing and exploring the data, more complicated tasks are better suited to a script.\n",
        "\n",
        "For example:\n",
        "- when your search has several steps, and you want to make sure they're done in a specific order\n",
        "- when you want to repeat an operation many times and collate the results\n",
        "- when you have to connect information from different sources, like DICES, Perseus, MANTO, etc.\n",
        "\n",
        "## The DICES API\n",
        "\n",
        "You could, if you wanted, examine the machine-oriented version of the database manually using your web-browser. A separate set of URLs provides access to the same data, but without the human-friendly tables, drop-downs and buttons. For example, compare the two pages below. Both represent the same search, for speeches made by Aphrodite to her son, Eros.\n",
        "\n",
        "- for humans: http://dices.ub.uni-rostock.de/app/speeches?spkr_name=Aphrodite&addr_name=Eros\n",
        "- for machines: http://dices.ub.uni-rostock.de/api/speeches?spkr_name=Aphrodite&addr_name=Eros\n",
        "\n",
        "The machine-actionable API is provided by Django Web Framework. If you’re interested in working with the API directly or have questions or suggestions about its implementation, please feel free to let us know!\n",
        "\n",
        "## The DICES client\n",
        "\n",
        "Most of the time, working with URLs like the one above and parsing the JSON responses from the server isn’t something you want to have to deal with. The Python DICES client provides a wrapper around the API that lets you make requests and manipulate the results using Python objects.\n",
        "\n",
        "### The database connection\n",
        "\n",
        "The client provides a class, **DicesAPI**, which allows you to manage your connection to the database. This is how you request data; it also lets you specify a custom server, in case you’re running your own mirror of the database. The first part of this tutorial will cover searching the database and manipulating the results."
      ]
    },
    {
      "cell_type": "code",
      "execution_count": null,
      "id": "3d934219-ceb7-42d9-a3d8-82658f4cc458",
      "metadata": {
        "id": "3d934219-ceb7-42d9-a3d8-82658f4cc458"
      },
      "outputs": [],
      "source": [
        "# Google Colab only:\n",
        "#   run the line below to install the DICES client\n",
        "\n",
        "!pip install --quiet git+https://github.com/cwf2/dices-client.git"
      ]
    },
    {
      "cell_type": "code",
      "execution_count": null,
      "id": "a5909845-9556-4f87-aa1e-d2b8b674d737",
      "metadata": {
        "id": "a5909845-9556-4f87-aa1e-d2b8b674d737"
      },
      "outputs": [],
      "source": [
        "from dicesapi import DicesAPI\n",
        "\n",
        "# create a connection to the DICES database\n",
        "api = DicesAPI(logdetail=0)"
      ]
    },
    {
      "cell_type": "markdown",
      "id": "00fa6053-4ed0-4469-8cea-84f0b7b69b2e",
      "metadata": {
        "id": "00fa6053-4ed0-4469-8cea-84f0b7b69b2e"
      },
      "source": [
        "### Searching speech records\n",
        "\n",
        "Now that we have a connection to the database, we can search for speeches in more or less the same terms as via the web interface. Here's how we download records for speeches from Aphrodite to Eros using the API.\n",
        "\n",
        "The code below uses `api`, our connection to the database, to ask for speeches (via the `getSpeeches()` method) and then saves (or \"assigns\") the results to a new variable, `speeches`."
      ]
    },
    {
      "cell_type": "code",
      "execution_count": null,
      "id": "230e6d44-bc33-45f3-84cf-20389cbfbb7b",
      "metadata": {
        "id": "230e6d44-bc33-45f3-84cf-20389cbfbb7b"
      },
      "outputs": [],
      "source": [
        "# request speeches from Aphrodite to Eros\n",
        "speeches = api.getSpeeches(\n",
        "    spkr_name = 'Aphrodite',\n",
        "    addr_name = 'Eros',\n",
        ")"
      ]
    },
    {
      "cell_type": "markdown",
      "id": "cbc12620-b205-44f3-9693-782e2c4a211b",
      "metadata": {
        "id": "cbc12620-b205-44f3-9693-782e2c4a211b"
      },
      "source": [
        "#### 🤔 Did anything happen?\n",
        "Let's find out. We can check the length of `speeches` to see how many results we got. We can also iterate over the results with a `for` loop and print them to the screen one at a time."
      ]
    },
    {
      "cell_type": "code",
      "execution_count": null,
      "id": "cad8f6c4-2579-44ae-af7c-545ee464fcff",
      "metadata": {
        "id": "cad8f6c4-2579-44ae-af7c-545ee464fcff"
      },
      "outputs": [],
      "source": [
        "# check the number of speeches\n",
        "print(len(speeches), 'speeches found.\\n')\n",
        "\n",
        "# iterate over all the results\n",
        "for s in speeches:\n",
        "    print(s)"
      ]
    },
    {
      "cell_type": "markdown",
      "id": "976b3e07-3cea-4d13-bdf1-2840213e366c",
      "metadata": {
        "id": "976b3e07-3cea-4d13-bdf1-2840213e366c"
      },
      "source": [
        "#### DICES object classes\n",
        "\n",
        "By default, the speeches print to the screen with some basic information about their location in the text. But each speech is represented in Python as a complex object with several additional properties.\n",
        "\n",
        "For example, let's look at just the first speech."
      ]
    },
    {
      "cell_type": "code",
      "execution_count": null,
      "id": "a45f3a20-2105-46f0-ba09-70321a62a906",
      "metadata": {
        "id": "a45f3a20-2105-46f0-ba09-70321a62a906"
      },
      "outputs": [],
      "source": [
        "# select the first speech\n",
        "s = speeches[0]\n",
        "\n",
        "print('author:', s.author)\n",
        "print('work:', s.work)\n",
        "print('loci:', s.l_range)\n",
        "print('language:', s.lang)\n",
        "print('speaker:', s.spkr)\n",
        "print('addressee:', s.addr)\n",
        "print('embedded level:', s.level)\n",
        "print('discourse type:', s.type)\n",
        "print('turn:', s.part)"
      ]
    },
    {
      "cell_type": "markdown",
      "id": "37f54e38-afde-445c-8c27-02ee0e60ea7f",
      "metadata": {
        "id": "37f54e38-afde-445c-8c27-02ee0e60ea7f"
      },
      "source": [
        "Notice that the author, work, speaker(s) and addressee(s) are all represented as objects. That means that we can interrogate their attributes as well. The dot notation (`.`) allows us to drill down through nested objects."
      ]
    },
    {
      "cell_type": "code",
      "execution_count": null,
      "id": "99170a82-5d88-4c73-af6f-c018063cbffd",
      "metadata": {
        "id": "99170a82-5d88-4c73-af6f-c018063cbffd"
      },
      "outputs": [],
      "source": [
        "print('author name:', s.author.name)\n",
        "print('work title:', s.work.title)"
      ]
    },
    {
      "cell_type": "markdown",
      "id": "760a463d-c257-4b27-982a-9315acc6e28b",
      "metadata": {
        "id": "760a463d-c257-4b27-982a-9315acc6e28b"
      },
      "source": [
        "#### Characters and Character Instances\n",
        "\n",
        "Much of what we're interested in has to do with speakers and addressees. DICES has information about a large catalogue of epic characters. Representing these characters across multiple texts can be challenging, especially when key attributes change according to context.\n",
        "\n",
        "We use two different levels of representation to handle this: **Characters** represent the underlying, core characteristics of a character, while **Character Instances** are used to represent the instantiation of a character in a particular context.\n",
        "\n",
        "We can see this reflected in the use of Roman names for Aphrodite and Eros in some of our results:"
      ]
    },
    {
      "cell_type": "code",
      "execution_count": null,
      "id": "5b003912-8b55-4e84-84c7-06025dbd61c3",
      "metadata": {
        "id": "5b003912-8b55-4e84-84c7-06025dbd61c3"
      },
      "outputs": [],
      "source": [
        "for s in speeches:\n",
        "    print(s.work.title, s.l_range)\n",
        "    print(' - speaker:', s.getSpkrString())\n",
        "    print(' - addressee:', s.getAddrString())\n",
        "    print()"
      ]
    },
    {
      "cell_type": "markdown",
      "id": "eb73a0e1-0eb0-45b1-b119-213c5e70fe39",
      "metadata": {
        "id": "eb73a0e1-0eb0-45b1-b119-213c5e70fe39"
      },
      "source": [
        "In all of these cases the **Character** Aphrodite is the speaker, but some of the **Character Instances** of this character have a different name. In more complex situations, the Character Instance may also have a different gender from the Character.\n",
        "\n",
        "Note that the `spkr` and `addr` attributes of a speech are always **lists** of `CharacterInstance` objects. Often those lists have only one CharacterInstance in them, but some speeches have multiple addressees and a few have multiple speakers. To keep things consistent, we use lists throughout. Use `getSpkrString()` and `getAddrString()` if you want a single value. They'll join multiple names with a comma if need be."
      ]
    },
    {
      "cell_type": "markdown",
      "id": "79862741-4492-4f3e-9c68-beffb96588aa",
      "metadata": {
        "id": "79862741-4492-4f3e-9c68-beffb96588aa"
      },
      "source": [
        "## Tabular data\n",
        "\n",
        "Even with only a few results, it can be helpful to organize records as a table of values. The **Pandas** package is a great way to work with tables (Pandas calls them **Data Frames**) in Python. You can also use Pandas to import/export tabular data from a spreadsheet."
      ]
    },
    {
      "cell_type": "code",
      "execution_count": null,
      "id": "05588803-cc6c-4a7c-837b-78e4be717c33",
      "metadata": {
        "id": "05588803-cc6c-4a7c-837b-78e4be717c33"
      },
      "outputs": [],
      "source": [
        "import pandas as pd\n",
        "\n",
        "# define the table\n",
        "table = pd.DataFrame(dict(\n",
        "    author = s.author.name,\n",
        "    work = s.work.title,\n",
        "    loci = s.l_range,\n",
        "    spkr = s.getSpkrString(),\n",
        "    addr = s.getAddrString(),\n",
        "    turn = s.part,\n",
        "    level = s.level,\n",
        "    lang = s.lang,\n",
        ") for s in speeches)\n",
        "\n",
        "display(table)"
      ]
    },
    {
      "cell_type": "markdown",
      "id": "57645411-c04b-4143-bd70-c6cd11b784e2",
      "metadata": {
        "id": "57645411-c04b-4143-bd70-c6cd11b784e2"
      },
      "source": [
        "#### A slightly more complicated example\n",
        "\n",
        "Let's look at how we can use Pandas to manage a slightly larger set of results. This time, we'll search for all of Aphrodite's speeches throughout the corpus."
      ]
    },
    {
      "cell_type": "code",
      "execution_count": null,
      "id": "c261b86f-6066-4980-9642-57706eb0996f",
      "metadata": {
        "id": "c261b86f-6066-4980-9642-57706eb0996f"
      },
      "outputs": [],
      "source": [
        "# request records for all speeches by aphrodite\n",
        "aph_speeches = api.getSpeeches(spkr_name='Aphrodite')"
      ]
    },
    {
      "cell_type": "markdown",
      "id": "11118011-1d01-4829-925e-ca4279d9caa1",
      "metadata": {
        "id": "11118011-1d01-4829-925e-ca4279d9caa1"
      },
      "source": [
        "Now we build a table including the gender of every addressee. I'm going to use character names rather than character instance names here, to avoid for example dividing Aphrodite's speeches to her husband between \"Mars\" and \"Ares\".\n",
        "\n",
        "Remember that the `spkr` attribute of each speech is a list of character instances. To drill down to the character level, we need to check the `char` of each instance. Note that some anonymous instances and collectives don't have an underlying char, so I have to tell Python what to do in that case."
      ]
    },
    {
      "cell_type": "code",
      "execution_count": null,
      "id": "4c2b9ece-6a84-4289-bc45-995bb7b4339c",
      "metadata": {
        "id": "4c2b9ece-6a84-4289-bc45-995bb7b4339c"
      },
      "outputs": [],
      "source": [
        "aph_table = pd.DataFrame(dict(\n",
        "    author = s.author.name,\n",
        "    work = s.work.title,\n",
        "    loci = s.l_range,\n",
        "    spkr_name = [inst.char.name if inst.char is not None else inst.name for inst in s.spkr],\n",
        "    addr_name = [inst.char.name if inst.char is not None else inst.name for inst in s.addr],\n",
        "    spkr_gend = [inst.gender for inst in s.spkr],\n",
        "    addr_gend = [inst.gender for inst in s.addr],\n",
        "    turn = s.part,\n",
        "    level = s.level,\n",
        "    lang = s.lang,\n",
        ") for s in aph_speeches)\n",
        "\n",
        "display(aph_table)"
      ]
    },
    {
      "cell_type": "markdown",
      "id": "76c5b4f6-071a-4c43-9512-dc0ad5ef1569",
      "metadata": {
        "id": "76c5b4f6-071a-4c43-9512-dc0ad5ef1569"
      },
      "source": [
        "The square brackets that you see in the speaker and addressee columns are Python's way of showing us that all the values are lists. Most of the lists contain a single element, but sometimes Aphrodite addresses both Athena and Hera together, for example.\n",
        "\n",
        "Let's imagine that we want to count up every one of Aphrodite's addressees, and so for example Argonautica 3.52-3.54 should be counted twice, once for Athena's tally and once for Hera's. In that case, we need to break out all the lists so that each row has only one addressee. Pandas does that with the `explode()` method."
      ]
    },
    {
      "cell_type": "code",
      "execution_count": null,
      "id": "94585be3-0b3a-4d20-8fc7-10a10d825626",
      "metadata": {
        "id": "94585be3-0b3a-4d20-8fc7-10a10d825626"
      },
      "outputs": [],
      "source": [
        "aph_table = aph_table.explode(['spkr_name', 'spkr_gend'])\n",
        "aph_table = aph_table.explode(['addr_name', 'addr_gend'])\n",
        "display(aph_table)"
      ]
    },
    {
      "cell_type": "markdown",
      "id": "f602cd8c-e7c3-4cd3-8f48-56eb7fb819f5",
      "metadata": {
        "id": "f602cd8c-e7c3-4cd3-8f48-56eb7fb819f5"
      },
      "source": [
        "### Exporting tabular data\n",
        "\n",
        "This might already be something that we're interested in working with in Excel. To save the table to a file, use the `to_csv()` method."
      ]
    },
    {
      "cell_type": "code",
      "execution_count": null,
      "id": "1f49fc81-e757-43e3-9045-56518eee39d6",
      "metadata": {
        "id": "1f49fc81-e757-43e3-9045-56518eee39d6"
      },
      "outputs": [],
      "source": [
        "aph_table.to_csv('aphrodite_speeches.csv')"
      ]
    },
    {
      "cell_type": "markdown",
      "id": "8f6fe965-14bf-45e2-8d26-a8036ea5845e",
      "metadata": {
        "id": "8f6fe965-14bf-45e2-8d26-a8036ea5845e"
      },
      "source": [
        "### Aggregating results\n",
        "\n",
        "On the other hand, there's a lot we can do right here in Python. For example, let's tally how many speeches Aphrodite has in each language. First we **group** the rows by language using `groupby()`, and then we **aggregate** the groups using `aggregate()` ... or `agg()` for short.\n",
        "\n",
        "When we aggregate, we create a new table in which each of the groups is represented by a single row. We can choose which columns we want to summarize and what **aggregation function**(s) we want to use for each. The format is, NEW_COL = ('OLD_COL', 'FUNC'). For example, here, I'm using\n",
        "```\n",
        "speeches = ('loci', 'count')\n",
        "```\n",
        "which means, create a new column called **speeches** based on the old column **loci**, using the function `count()`. The value of **speeches** for a given group is calculated as the count of loci in that group."
      ]
    },
    {
      "cell_type": "code",
      "execution_count": null,
      "id": "7911452d-29b3-48c4-9050-54e66b2ac365",
      "metadata": {
        "id": "7911452d-29b3-48c4-9050-54e66b2ac365"
      },
      "outputs": [],
      "source": [
        "aph_table.groupby('lang').agg(speeches = ('loci', 'count'))"
      ]
    },
    {
      "cell_type": "markdown",
      "id": "2aab0c4f-f206-45d3-ab00-b4325fa2a20a",
      "metadata": {
        "id": "2aab0c4f-f206-45d3-ab00-b4325fa2a20a"
      },
      "source": [
        "Let's consider how the gender of addressees breaks down by language. For that we can **cross-tabulate** two columns in the table with `crosstab()`.\n",
        "\n",
        "To pull a given column from a table, we use square brackets around the column name."
      ]
    },
    {
      "cell_type": "code",
      "execution_count": null,
      "id": "f5dd573c-c315-44e1-b9e8-9c1d6b16ceff",
      "metadata": {
        "id": "f5dd573c-c315-44e1-b9e8-9c1d6b16ceff"
      },
      "outputs": [],
      "source": [
        "pd.crosstab(aph_table['lang'], aph_table['addr_gend'])"
      ]
    },
    {
      "cell_type": "markdown",
      "id": "51aada58-f118-4010-96e4-81c2fea2c0a7",
      "metadata": {
        "id": "51aada58-f118-4010-96e4-81c2fea2c0a7"
      },
      "source": [
        "From this we can see that Aphrodite talks to women much less in Latin texts than in Greek texts. We also see an instance of a non-binary addressee. Let's find that row in the table and see who it is.\n",
        "\n",
        "We can use criteria to select particular rows of the table with `.loc`. In this case, we'll pull out the row we want based on a value of column **addr_gend**."
      ]
    },
    {
      "cell_type": "code",
      "execution_count": null,
      "id": "f3b86664-79d0-4c1d-b5a0-cb46134edc4d",
      "metadata": {
        "id": "f3b86664-79d0-4c1d-b5a0-cb46134edc4d"
      },
      "outputs": [],
      "source": [
        "aph_table.loc[aph_table['addr_gend'] == 'x']"
      ]
    },
    {
      "cell_type": "markdown",
      "id": "2f86cf3f-4542-4101-acf1-59c05bc455b4",
      "metadata": {
        "id": "2f86cf3f-4542-4101-acf1-59c05bc455b4"
      },
      "source": [
        "Using the criterion, we found the speech we were interested in. It's not a non-binary character, but a collective addressee including both male and female deities.\n",
        "\n",
        "#### Ranking addressees\n",
        "\n",
        "Let's use `groupby()` and `agg()` again, this time to tally how many times Aphrodite addresses each named addressee. While we're at it, let's sort the list from greatest number of speeches to least."
      ]
    },
    {
      "cell_type": "code",
      "execution_count": null,
      "id": "bc9a2216-1763-480e-ad88-1b616c6662b6",
      "metadata": {
        "id": "bc9a2216-1763-480e-ad88-1b616c6662b6"
      },
      "outputs": [],
      "source": [
        "(aph_table\n",
        "    .groupby('addr_name')\n",
        "    .agg(speeches = ('loci', 'count'))\n",
        "    .sort_values('speeches', ascending=False)\n",
        ")"
      ]
    }
  ],
  "metadata": {
    "kernelspec": {
      "display_name": "Python 3 (ipykernel)",
      "language": "python",
      "name": "python3"
    },
    "language_info": {
      "codemirror_mode": {
        "name": "ipython",
        "version": 3
      },
      "file_extension": ".py",
      "mimetype": "text/x-python",
      "name": "python",
      "nbconvert_exporter": "python",
      "pygments_lexer": "ipython3",
      "version": "3.11.7"
    },
    "colab": {
      "provenance": []
    }
  },
  "nbformat": 4,
  "nbformat_minor": 5
}