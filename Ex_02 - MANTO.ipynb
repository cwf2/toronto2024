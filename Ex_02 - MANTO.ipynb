{
 "cells": [
  {
   "cell_type": "markdown",
   "metadata": {
    "id": "Vj5eti8PL3dF"
   },
   "source": [
    " <a target=\"_blank\" href=\"https://colab.research.google.com/github/cwf2/toronto2024/blob/main/Ex_02%20-%20MANTO.ipynb\">\n",
    "  <img src=\"https://colab.research.google.com/assets/colab-badge.svg\" alt=\"Open In Colab\"/>\n",
    "</a>"
   ]
  },
  {
   "cell_type": "markdown",
   "metadata": {
    "id": "QJTXVcczIY5C"
   },
   "source": [
    "# Working with MANTO data\n",
    "\n",
    "One of the goals of DICES is to be interoperable with other Digital Classics projects. In this notebook, we connect to [MANTO](https://www.manto-myth.org/manto), a database of people in Greek and Roman mythology. Many of our DICES characters have records in MANTO, and MANTO provides a lot of potentially useful information about them that's beyond the scope of DICES.\n",
    "\n",
    "For example, MANTO gives information about relationships between characters, connections to places in the Greco-Roman world, and primary sources that attest these attributes.\n",
    "\n",
    "Example:\n",
    "- the MANTO record for Aphrodite: https://resource.manto.unh.edu/8182231\n",
    "\n",
    "Note that not all of our characters have MANTO records: some of our characters aren't mythological, and in some cases we haven't finished updating our character identifiers to sync with MANTO.\n",
    "\n",
    "### Preliminaries"
   ]
  },
  {
   "cell_type": "code",
   "execution_count": null,
   "metadata": {
    "id": "Ar2nzNhPIY5G"
   },
   "outputs": [],
   "source": [
    "# Google Colab only:\n",
    "#   run the line below to install the DICES client\n",
    "\n",
    "!pip install --quiet git+https://github.com/cwf2/dices-client.git"
   ]
  },
  {
   "cell_type": "markdown",
   "metadata": {
    "id": "XF7Gs_FYIY5H"
   },
   "source": [
    "#### Import statements\n",
    "\n",
    "Here we load DICES code: the MANTO tools are in the `manto` module. We're also using Pandas for tabular data."
   ]
  },
  {
   "cell_type": "code",
   "execution_count": null,
   "metadata": {
    "id": "JFM-sBvSIY5I"
   },
   "outputs": [],
   "source": [
    "from dicesapi import DicesAPI, SpeechGroup\n",
    "from dicesapi import manto\n",
    "import pandas as pd"
   ]
  },
  {
   "cell_type": "markdown",
   "metadata": {
    "id": "zPSUJiLJIY5J"
   },
   "source": [
    "Create a connection to DICES"
   ]
  },
  {
   "cell_type": "code",
   "execution_count": null,
   "metadata": {
    "id": "xzhLHRhtIY5K"
   },
   "outputs": [],
   "source": [
    "api=DicesAPI(logfile='dices.log', logdetail=0)"
   ]
  },
  {
   "cell_type": "markdown",
   "metadata": {
    "id": "uGh5LJf5IY5L"
   },
   "source": [
    "Instantiate a DICES character to get started"
   ]
  },
  {
   "cell_type": "code",
   "execution_count": null,
   "metadata": {
    "id": "GBZcPNm-IY5M"
   },
   "outputs": [],
   "source": [
    "char = api.getCharacters(name='Telemachus')[0]\n",
    "print(char)"
   ]
  },
  {
   "cell_type": "markdown",
   "metadata": {
    "id": "NxPkyf91IY5M"
   },
   "source": [
    "### Retrieving MANTO entities\n",
    "\n",
    "Let’s create a new MANTO entity by retrieving Telemachus’ ID from MANTO."
   ]
  },
  {
   "cell_type": "code",
   "execution_count": null,
   "metadata": {
    "id": "FBf0cqOuIY5N"
   },
   "outputs": [],
   "source": [
    "manto_ent = manto.getMantoChar(char)\n",
    "print(manto_ent)"
   ]
  },
  {
   "cell_type": "markdown",
   "metadata": {
    "id": "CTlMt8-0IY5O"
   },
   "source": [
    "### Using MANTO ties to find relatives\n",
    "\n",
    "This code is still in development and subject to change. But for now, this is how we search MANTO for Telemachus' parents. Under the hood, we're checking two different MANTO ties, `31764`, \"son of\", and `31765`, \"daughter of.\"\n",
    "\n",
    "This function currently returns MANTO Entity objects."
   ]
  },
  {
   "cell_type": "code",
   "execution_count": null,
   "metadata": {
    "id": "OJizwEwAIY5P"
   },
   "outputs": [],
   "source": [
    "parents = manto_ent.getParents()\n",
    "print(parents)"
   ]
  },
  {
   "cell_type": "markdown",
   "metadata": {
    "id": "ZYFItqaIIY5P"
   },
   "source": [
    "Let's look for grandparents. Note that when sources disagree about parentage, MANTO returns an inclusive list."
   ]
  },
  {
   "cell_type": "code",
   "execution_count": null,
   "metadata": {
    "id": "duGqM8YWIY5Q"
   },
   "outputs": [],
   "source": [
    "for p in parents:\n",
    "    print(f'Grandparents on {p.name}’s side:')\n",
    "    for gp in p.getParents():\n",
    "        print(' - ' + gp.name)"
   ]
  },
  {
   "cell_type": "markdown",
   "metadata": {
    "id": "CLybgp0rIY5R"
   },
   "source": [
    "### Boolean relationship checker\n",
    "\n",
    "#### For MANTO Entities\n",
    "\n",
    "Sometimes we just want a yes/no answer as to parentage. For MANTO Entities, methods like `isChildOf()` will take a second Manto entity as argument and return `True` or `False`. This can be useful, for example, for filtering a list."
   ]
  },
  {
   "cell_type": "code",
   "execution_count": null,
   "metadata": {
    "id": "1HDcN09oIY5S"
   },
   "outputs": [],
   "source": [
    "# a list of character pairs, by MANTO ID\n",
    "pairs = [\n",
    "    ('8182179', '8182084'),  # Anchises and Aeneas\n",
    "    ('8188282', '8190182'),  # Eteocles and Oedipus\n",
    "    ('8189802', '8182035'),  # Menelaus and Agamemnon\n",
    "]\n",
    "\n",
    "for a, b in pairs:\n",
    "    ent_a = manto.getMantoID(a)\n",
    "    ent_b = manto.getMantoID(b)\n",
    "    print(f'Is {ent_a.name} the child of {ent_b.name}? ', ent_a.isChildOf(ent_b))"
   ]
  },
  {
   "cell_type": "markdown",
   "metadata": {
    "id": "f2NZAaGfIY5T"
   },
   "source": [
    "#### For DICES Characters\n",
    "\n",
    "For convenience, there are also wrapper functions that perform the same checks on DICES Characters by resolving the characters to MANTO entities first, then calling the boolean methods above. If you pass a CharacterInstance instead of a Character, the function will try to determine the MANTO ID of the underlying Character.\n",
    "\n",
    "If passed a Character with no MANTO ID, or an anonymous CharacterInstance with no Character, these functions return `None`. You can use the optional `err_val` parameter to set a different fallback value; for example, if you're using the function in a filter and want to ensure it always returns a Boolean, set this to `False`.\n",
    "\n",
    "For these next examples, let's start with a list of Telemachus' interlocutors."
   ]
  },
  {
   "cell_type": "code",
   "execution_count": null,
   "metadata": {
    "id": "75-LUV_NIY5U"
   },
   "outputs": [],
   "source": [
    "# download all speeches by Telemachus\n",
    "speeches = api.getSpeeches(spkr_id=char.id, progress=True)\n",
    "print(f'{len(speeches)} speeches')\n",
    "\n",
    "# extract the list of addressees\n",
    "addressees = speeches.getAddrs(flatten=True)\n",
    "print(f'{len(addressees)} unique addressees.')"
   ]
  },
  {
   "cell_type": "markdown",
   "metadata": {
    "id": "AATXevoIIY5V"
   },
   "source": [
    "In this block, we use call `charIsChild()` on the speaker and his addressees to test parentage using MANTO's data. Where the function returns `None`, we know data was missing."
   ]
  },
  {
   "cell_type": "code",
   "execution_count": null,
   "metadata": {
    "id": "2c1EuFDzIY5V"
   },
   "outputs": [],
   "source": [
    "for addr in addressees:\n",
    "    check = manto.charIsChild(char, addr)\n",
    "    if check is not None:\n",
    "        print(f'Is {char.name} the child of {addr.name}?', check)"
   ]
  },
  {
   "cell_type": "markdown",
   "metadata": {
    "id": "uSEOKfv4IY5W"
   },
   "source": [
    "Or we can use MANTO ties in a custom filter. In this case I'll silence the debugging messages and force `charIsChild()` to return `False` if no MANTO ID is found."
   ]
  },
  {
   "cell_type": "code",
   "execution_count": null,
   "metadata": {
    "id": "CYFX9tceIY5W"
   },
   "outputs": [],
   "source": [
    "# filter a CharacterInstanceGroup based on MANTO ties:\n",
    "parent_addrs = addressees.advancedFilter(lambda addr: manto.charIsChild(char, addr, debug=False, err_val=False))\n",
    "\n",
    "print(f'Parent addressees of {char.name}:')\n",
    "for p in parent_addrs:\n",
    "    print(p.name)\n",
    "print()\n",
    "\n",
    "# now use the filtered list of CharacterInstances to filter the original SpeechGroup\n",
    "parent_speeches = speeches.filterAddrInstances(parent_addrs)\n",
    "\n",
    "print(f'Speeches in which {char.name} addresses a parent:\\n')\n",
    "for s in parent_speeches:\n",
    "    print(f'{s.author.name} {s.work.title} {s.l_range}\\t{s.getAddrString()}')"
   ]
  },
  {
   "cell_type": "markdown",
   "metadata": {},
   "source": [
    "## [Optional] Other kinds of MANTO entities and ties\n",
    "\n",
    "MANTO has records for other entities than people, and many more kinds of ties than just parent-child relationships. We haven't used these features much ourselves, so support is minimal, but it would be exciting to try.\n",
    "\n",
    "If you'd like to use MANTO more extensively (or if you're a MANTO developer) please get in touch—we'd love to expand this module.\n",
    "\n",
    "### Example: Place entities\n",
    "\n",
    "I happen to know that the MANTO ID for Thebes is '8253960'. I found it by searching MANTO's web interface for the place, and then looking at the record data printed at the bottom of the page. \n",
    "\n",
    "I can use the ID to create a new MantoEntity instance. The DICES client treats MANTO IDs as strings, so remember to wrap it in quotation marks."
   ]
  },
  {
   "cell_type": "code",
   "execution_count": null,
   "metadata": {},
   "outputs": [],
   "source": [
    "manto_place = manto.getMantoID('8253960')\n",
    "print(manto_place)"
   ]
  },
  {
   "cell_type": "markdown",
   "metadata": {},
   "source": [
    "Now we can use `getTies()` to find MANTO character entities that have relationships with Thebes. MANTO uses numeric IDs to refer to kinds of relationships as well as to entities. I haven't found an easy way to search for these by name. Instead, I dig around in the JSON data for some MANTO record (use `manto.dlMantoData(id)` to get the raw record) and compare it with the same record on MANTO's web site to deduce which IDs refer to which relationships. If you want help with a certain relationship, let me know!\n",
    "\n",
    "### Example: characters who died at Thebes\n",
    "\n",
    "The relationship 'place of death' turns out to be `'32529'`. That is, if we search for ties to Thebes with this ID, we get back MANTO records for characters who died there.\n",
    "\n",
    "The `MantoEntity.getTies()` method will return records that have a given tie (or any of a list of ties). By default, it downloads the whole entity record from MANTO and creates a MantoEntity object for each result. Pass it `as_ent=False` to just get the IDs. This is faster."
   ]
  },
  {
   "cell_type": "code",
   "execution_count": null,
   "metadata": {},
   "outputs": [],
   "source": [
    "manto_ids = manto_place.getTies('32529', as_ent=False)\n",
    "print(manto_ids)"
   ]
  },
  {
   "cell_type": "markdown",
   "metadata": {},
   "source": [
    "Now we can use these MANTO IDs for example to filter a CharacterGroup."
   ]
  },
  {
   "cell_type": "code",
   "execution_count": null,
   "metadata": {},
   "outputs": [],
   "source": [
    "characters = api.getCharacters().filterMantos(manto_ids)\n",
    "\n",
    "print(len(characters), 'characters who died at', manto_place.name, '\\n')\n",
    "\n",
    "for c in characters:\n",
    "    print(c.name)"
   ]
  },
  {
   "cell_type": "markdown",
   "metadata": {},
   "source": [
    "Then use these characters to find speeches:"
   ]
  },
  {
   "cell_type": "code",
   "execution_count": null,
   "metadata": {},
   "outputs": [],
   "source": [
    "speeches = SpeechGroup([s for c in characters for s in api.getSpeeches(spkr_id=c.id)], api=api)"
   ]
  },
  {
   "cell_type": "code",
   "execution_count": null,
   "metadata": {},
   "outputs": [],
   "source": [
    "print(len(speeches), 'speeches by characters who died at', manto_place.name)\n",
    "\n",
    "pd.DataFrame(dict(\n",
    "    work = f'{s.author.name} {s.work.title}',\n",
    "    first_line = s.l_fi,\n",
    "    last_line = s.l_la,\n",
    "    speaker = s.getSpkrString(),\n",
    "    addressee = s.getAddrString(),\n",
    ") for s in speeches)"
   ]
  },
  {
   "cell_type": "markdown",
   "metadata": {},
   "source": [
    "### 🤔 Experiment\n",
    "\n",
    "Try repeating the steps above using the MANTO ID for a different city. For example, Troy's ID is `'8194710'`."
   ]
  }
 ],
 "metadata": {
  "colab": {
   "provenance": []
  },
  "kernelspec": {
   "display_name": "Python 3 (ipykernel)",
   "language": "python",
   "name": "python3"
  },
  "language_info": {
   "codemirror_mode": {
    "name": "ipython",
    "version": 3
   },
   "file_extension": ".py",
   "mimetype": "text/x-python",
   "name": "python",
   "nbconvert_exporter": "python",
   "pygments_lexer": "ipython3",
   "version": "3.11.7"
  }
 },
 "nbformat": 4,
 "nbformat_minor": 4
}
