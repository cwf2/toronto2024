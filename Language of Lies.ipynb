{
 "cells": [
  {
   "cell_type": "markdown",
   "id": "37bebd2b-a6a5-47ff-8bc3-9b09f0ef14ab",
   "metadata": {},
   "source": [
    "# A Gospel in the Language of Lies\n",
    "### Interactive Figures and Data Appendix"
   ]
  },
  {
   "cell_type": "code",
   "execution_count": null,
   "id": "fa1bbb63-4044-49e1-86fd-c1a59a89baf5",
   "metadata": {},
   "outputs": [],
   "source": [
    "# import statements\n",
    "import pandas as pd\n",
    "import numpy as np\n",
    "import seaborn as sns\n",
    "import matplotlib\n",
    "from matplotlib import pyplot as plt\n",
    "from ipywidgets import interactive, fixed\n",
    "import os"
   ]
  },
  {
   "cell_type": "code",
   "execution_count": null,
   "id": "c66110a2-e139-4153-87e0-4dc9b19e51f4",
   "metadata": {},
   "outputs": [],
   "source": [
    "# only necessary in colab, but won't hurt\n",
    "if not os.path.exists('output'):\n",
    "    os.mkdir('output')"
   ]
  },
  {
   "cell_type": "markdown",
   "id": "01844bb9-7cb2-44c9-a897-1048f0a7c9f7",
   "metadata": {},
   "source": [
    "#### Download the data from GitHub\n",
    "\n",
    "If spreadsheets are more your style, you can also [import this CSV](https://github.com/cwf2/homerocentones/blob/main/data/leave_one_out.csv) directly into Excel."
   ]
  },
  {
   "cell_type": "code",
   "execution_count": null,
   "id": "0a9e8c77-660f-4a2f-ab53-0171f4d4aa58",
   "metadata": {},
   "outputs": [],
   "source": [
    "data_path = 'https://raw.githubusercontent.com/cwf2/homerocentones/main/data/leave_one_out.csv'\n",
    "df = pd.read_csv(data_path, na_values=[''], keep_default_na=False)\n",
    "\n",
    "# relabel lines of unknown source\n",
    "df['hom_work'] = df['hom_work'].replace('0', np.NaN)\n",
    "df['hom_spkr_being'] = df['hom_spkr_being'].replace('0', np.NaN)\n",
    "\n",
    "# make deception tags ordered categorical values\n",
    "df['dec_line'] = pd.Categorical(df['dec_line'],\n",
    "    categories = ['unclassified', 'None', 'Possible', 'Strong'], ordered=True)\n",
    "df['dec_speech'] = pd.Categorical(df['dec_speech'],\n",
    "    categories = ['unclassified', 'None', 'Possible', 'Strong'], ordered=True)"
   ]
  },
  {
   "cell_type": "markdown",
   "id": "88beb0da-1654-4f2d-9f64-8aed25552bde",
   "metadata": {},
   "source": [
    "#### General style settings\n",
    "\n",
    "This creates a uniform look for the graphs."
   ]
  },
  {
   "cell_type": "code",
   "execution_count": null,
   "id": "8b581b25-309b-4e5f-bf1e-b5abaa4214df",
   "metadata": {},
   "outputs": [],
   "source": [
    "sns.set_style('white')"
   ]
  },
  {
   "cell_type": "markdown",
   "id": "3003dc58-ec50-4abc-bffe-c52204b18fec",
   "metadata": {},
   "source": [
    "#### Source lines for Eudocia by work\n",
    "\n",
    "A little more than half of Eudocia's source lines come from the *Odyssey*, with fewer coming from the *Iliad*.\n",
    "\n",
    "Note: In the pie charts below, we have counted lines that occur more than once in Homer proportionally: if the same line occurs, for example, twice in the *Odyssey* and once in the *Iliad*, then each occurrence will be counted as one-third of a line, so that the total for *Odyssey* is 0.67 and that for the *Iliad* is 0.33."
   ]
  },
  {
   "cell_type": "code",
   "execution_count": null,
   "id": "edd62503-7aeb-4768-b8af-2999afc94ba5",
   "metadata": {},
   "outputs": [],
   "source": [
    "# summary table\n",
    "\n",
    "lines_by_work = df.groupby('hom_work').agg(\n",
    "    lines = ('coefficient.1', 'sum'),\n",
    ")\n",
    "\n",
    "display(lines_by_work)"
   ]
  },
  {
   "cell_type": "code",
   "execution_count": null,
   "id": "feb8f792-4089-4711-a6b0-2f14323248a9",
   "metadata": {},
   "outputs": [],
   "source": [
    "# pie chart\n",
    "fig, ax = plt.subplots()\n",
    "\n",
    "wedges, texts, autotexts = ax.pie(\n",
    "    x = lines_by_work['lines'], \n",
    "    labels=['Iliad', 'Odyssey'], \n",
    "    labeldistance=None,\n",
    "    autopct='%d%%',\n",
    ")\n",
    "\n",
    "ax.legend(loc='center left', bbox_to_anchor=(1, 0, 0.5, 1))\n",
    "ax.set_title('Homeric sources for Eudocia’s lines (speeches only)')\n",
    "plt.setp(autotexts, size=14, weight=\"bold\", color=\"white\")\n",
    "\n",
    "# save figure as PDF\n",
    "output_file = os.path.join('output', 'fig_source_by_work.pdf')\n",
    "plt.savefig(output_file)\n",
    "\n",
    "# display\n",
    "plt.show()"
   ]
  },
  {
   "cell_type": "markdown",
   "id": "20a0ef8e-1bbf-40fc-bce7-18b9f1863b41",
   "metadata": {},
   "source": [
    "#### By Homeric source speaker \n",
    "\n",
    "Here we create a simplified set of speakers in which the four characters most used by Eudocia (Odysseus, Achilles, Telemachus and Penelope) are distinguished, while the remaining mortal characters are grouped together for simplicity, as are all divine speakers. Narrator text is also kept separate."
   ]
  },
  {
   "cell_type": "code",
   "execution_count": null,
   "id": "ec09f639-04f2-40b8-8ec3-186511d64506",
   "metadata": {},
   "outputs": [],
   "source": [
    "# simplified list of characters\n",
    "spkrs = df['hom_spkr_being'].copy()\n",
    "spkrs[spkrs=='mortal'] = 'other mortals'\n",
    "spkrs[spkrs=='divine'] = 'gods'\n",
    "spkrs[spkrs=='Narrator'] = 'narrator'\n",
    "\n",
    "for name in ['Odysseus', 'Achilles', 'Telemachus', 'Penelope',]:\n",
    "    mask = df['hom_spkr'].str.startswith(name)\n",
    "    spkrs[mask] = name"
   ]
  },
  {
   "cell_type": "code",
   "execution_count": null,
   "id": "882f38a0-d67c-428f-8242-e46004cee174",
   "metadata": {},
   "outputs": [],
   "source": [
    "# summary table\n",
    "lines_by_hom_spkr = df.groupby(spkrs).agg(\n",
    "    lines = ('coefficient.1', 'sum'),\n",
    ")\n",
    "\n",
    "# reorder\n",
    "order = ['Odysseus', 'Achilles', 'Telemachus', 'Penelope', 'narrator', 'other mortals', 'gods', 'other']\n",
    "lines_by_hom_spkr = lines_by_hom_spkr.loc[order, :]\n",
    "\n",
    "display(lines_by_hom_spkr)"
   ]
  },
  {
   "cell_type": "code",
   "execution_count": null,
   "id": "2bc40660-3d6b-42f7-83bc-83021186c37e",
   "metadata": {},
   "outputs": [],
   "source": [
    "fig, ax = plt.subplots()\n",
    "wedges, texts, autotexts = ax.pie(\n",
    "    x = lines_by_hom_spkr['lines'],\n",
    "    labels = order,\n",
    "    counterclock = False,\n",
    "    startangle = 90,\n",
    "    autopct='%1.f%%',\n",
    ")\n",
    "ax.set_title('Eudocia’s use of Homeric speakers')\n",
    "plt.setp(autotexts, size=10, weight=\"bold\", color=\"white\")\n",
    "\n",
    "# save figure as PDF\n",
    "output_file = os.path.join('output', 'fig_source_by_hom_spkr.pdf')\n",
    "plt.savefig(output_file)\n",
    "\n",
    "plt.show()"
   ]
  },
  {
   "cell_type": "markdown",
   "id": "9a01c058-2b05-4878-a05a-9ba010f98fdf",
   "metadata": {},
   "source": [
    "#### Homer's lines in disguise\n",
    "\n",
    "As a benchmark against which to measure Eudocia's selection of Homeric lines spoken in disguis, we can look at how often Homer himself uses disguised speakers. \n",
    "\n",
    "The Homer data comprises all lines included in direct speech in Homer. The Apologue of Odysseus, the multi-book tale of his wanderings narrated to Alcinous and Arete, is counted towards the total. Lines in embedded speeches are counted only for the \"innermost\" speaker: for example, when Odysseus reports the words of Circe, the are attributed to Circe and not Odysseus."
   ]
  },
  {
   "cell_type": "code",
   "execution_count": null,
   "id": "fd2747fe-377b-49d0-b554-b8a4f1ef3de9",
   "metadata": {},
   "outputs": [],
   "source": [
    "homer_data_path = 'https://raw.githubusercontent.com/cwf2/homerocentones/main/data/homer_speech_lines.csv'\n",
    "homer_df = pd.read_csv(homer_data_path)\n",
    "\n",
    "# table: disguised or not\n",
    "homer_disg_mask = homer_df['spkr'].str.contains('-')\n",
    "\n",
    "homer_is_disg = homer_df.groupby(homer_disg_mask).agg(\n",
    "    lines = ('line', 'count'),\n",
    ")\n",
    "\n",
    "display(homer_is_disg)"
   ]
  },
  {
   "cell_type": "code",
   "execution_count": null,
   "id": "ca90c8bf-7018-4feb-8bf1-ad96534209e7",
   "metadata": {},
   "outputs": [],
   "source": [
    "# pie chart\n",
    "fig, ax  = plt.subplots()\n",
    "\n",
    "wedges, texts, autotexts = ax.pie(\n",
    "    x = homer_is_disg['lines'],\n",
    "    labels = ['no disguise', 'disguised'],\n",
    "    labeldistance = None,\n",
    "    counterclock = False,\n",
    "    autopct = '%1.f%%',\n",
    ")\n",
    "ax.set_title('Homer’s use of disguised speakers')\n",
    "ax.legend(loc='center left', bbox_to_anchor=(0.9, 0, 1, 0.5), reverse=True)\n",
    "plt.setp(autotexts, size=14, weight=\"bold\", color=\"white\")\n",
    "\n",
    "# save figure as PDF\n",
    "output_file = os.path.join('output', 'fig_hom_is_disg.pdf')\n",
    "plt.savefig(output_file)\n",
    "\n",
    "plt.show()"
   ]
  },
  {
   "cell_type": "markdown",
   "id": "c3ff87ee-1e9a-4172-96c0-72412aec302d",
   "metadata": {},
   "source": [
    "#### Homer's disguised characters\n",
    "\n",
    "How do these lines spoken in disguise break down amongst the characters? "
   ]
  },
  {
   "cell_type": "code",
   "execution_count": null,
   "id": "27600488-14a8-4d87-b73f-b43057fa6924",
   "metadata": {},
   "outputs": [],
   "source": [
    "homer_by_disg = homer_df.loc[homer_disg_mask].groupby('spkr').agg(\n",
    "    lines = ('spkr', 'count'),\n",
    ")\n",
    "\n",
    "display(homer_by_disg)"
   ]
  },
  {
   "cell_type": "markdown",
   "id": "3b4f9957-239b-433b-9d51-1d2538e8346c",
   "metadata": {},
   "source": [
    "#### Eudocia's use of lines in disguise\n",
    "\n",
    "So how does Eudocia use the Homeric pool of disguised speech lines? Her ratio of disguised Homeric speakers to non-disguised speakers is very similar to the source material. This suggests that she does not favour or avoid Homer's disguised speakers in general."
   ]
  },
  {
   "cell_type": "code",
   "execution_count": null,
   "id": "1b35116a-dd60-4af5-b9ea-606853c9795d",
   "metadata": {},
   "outputs": [],
   "source": [
    "# table: disguised or not\n",
    "disg_mask = df['hom_spkr'].str.contains('-')\n",
    "\n",
    "is_disg = df.groupby(disg_mask).agg(\n",
    "    lines = ('coefficient.1', 'sum'),\n",
    ")\n",
    "\n",
    "display(is_disg)"
   ]
  },
  {
   "cell_type": "code",
   "execution_count": null,
   "id": "07deadfa-0ccb-4ccd-931e-c74b5913b530",
   "metadata": {},
   "outputs": [],
   "source": [
    "# pie chart\n",
    "fig, ax  = plt.subplots()\n",
    "\n",
    "wedges, texts, autotexts = ax.pie(\n",
    "    x = is_disg['lines'],\n",
    "    labels = ['no disguise', 'disguised'],\n",
    "    labeldistance = None,\n",
    "    counterclock = False,\n",
    "    autopct = '%1.f%%',\n",
    ")\n",
    "ax.set_title('Eudocia’s use of disguised Homeric speakers')\n",
    "ax.legend(loc='center left', bbox_to_anchor=(0.9, 0, 1, 0.5), reverse=True)\n",
    "plt.setp(autotexts, size=14, weight=\"bold\", color=\"white\")\n",
    "\n",
    "# save figure as PDF\n",
    "output_file = os.path.join('output', 'fig_is_disg.pdf')\n",
    "plt.savefig(output_file)\n",
    "\n",
    "plt.show()"
   ]
  },
  {
   "cell_type": "markdown",
   "id": "d0bb0abb-621e-4389-b811-caa1fe249499",
   "metadata": {},
   "source": [
    "#### Eudocia's selection of disguised characters\n",
    "\n",
    "Which of Homer's disguised characters does Eudocia use in her speeches?"
   ]
  },
  {
   "cell_type": "code",
   "execution_count": null,
   "id": "522cd204-b8eb-4d4f-b8a8-398801d779e7",
   "metadata": {},
   "outputs": [],
   "source": [
    "# table: disguised characters \n",
    "by_disg = df.loc[disg_mask].groupby('hom_spkr').agg(\n",
    "    lines = ('coefficient.1', 'sum'),\n",
    ").sort_index()\n",
    "\n",
    "order = [\n",
    "    'Odysseus-beggar',\n",
    "    'Odysseus-stranger',\n",
    "    'Athena-Mentor',\n",
    "    'Athena-Mentes',\n",
    "    'Athena-maiden',\n",
    "    'Athena-herald',\n",
    "    'Athena-companion of Nausicaa',\n",
    "    'Hermes-young man',\n",
    "    'Poseidon-Calchas',\n",
    "    'dream-Iphthime',\n",
    "    'dream-Nestor',]\n",
    "by_disg = by_disg.loc[order, :]\n",
    "\n",
    "display(by_disg)"
   ]
  },
  {
   "cell_type": "code",
   "execution_count": null,
   "id": "de890fcf-34ff-4353-b9c9-5fc9c859dba2",
   "metadata": {},
   "outputs": [],
   "source": [
    "# set up colors -- same color different alpha for disguised chars\n",
    "colors = ['tab:blue', 'tab:blue', 'tab:orange', 'tab:orange', 'tab:orange', 'tab:orange', 'tab:orange', 'tab:green', 'tab:red', 'tab:purple', 'tab:purple']\n",
    "alphas = [0.5, 0.8, 0.2, 0.4, 0.6, 0.8, 1, 0.6, 0.6, 0.5, 0.8]\n",
    "rgbas = []\n",
    "for name, a in zip(colors, alphas):\n",
    "    r,g,b = matplotlib.colors.to_rgb(name)\n",
    "    rgbas.append((r,g,b,a))\n",
    "\n",
    "# draw pie chart\n",
    "fig, ax  = plt.subplots(figsize=(8,5))\n",
    "\n",
    "wedges, texts, autotexts = ax.pie(\n",
    "    x = by_disg['lines'],\n",
    "    labels = by_disg.index,\n",
    "    colors = rgbas,\n",
    "    counterclock = True,\n",
    "    startangle = 71,\n",
    "    autopct = '%1.f%%',\n",
    "    pctdistance = 0.7,\n",
    ")\n",
    "\n",
    "ax.set_title('Eudocia’s use of disguised Homeric speakers')\n",
    "plt.setp(autotexts, size=10, weight=\"bold\")\n",
    "\n",
    "# save figure as PDF\n",
    "output_file = os.path.join('output', 'fig_by_disg.pdf')\n",
    "plt.savefig(output_file)\n",
    "\n",
    "plt.show()"
   ]
  },
  {
   "cell_type": "markdown",
   "id": "81fdce2c-0780-460a-880e-937cae54e9fe",
   "metadata": {},
   "source": [
    "## Deceptive speech in Eudocia\n",
    "\n",
    "The following graphs are based on reader judgments of the deceptiveness of lines in their original Homeric context. Each individual source line was evaluated, and then the source speech as a whole was also evaluated. Thus, a deceptive speech might contain many individual lines that are not in themselves deceptive, while a speech that was largely not deceptive might contain one or two lines that were nevertheless untrue. This work is ongoing, and a portion of the lines remain unclassified.\n",
    "\n",
    "The categories used are:\n",
    "- **None**: no deception\n",
    "- **Possible**: possible or slight deception\n",
    "- **Strong**: strong deception\n",
    "- **unclassified**: no data"
   ]
  },
  {
   "cell_type": "code",
   "execution_count": null,
   "id": "75f281df-97e4-48d0-b8e1-763bc3318ae1",
   "metadata": {},
   "outputs": [],
   "source": [
    "# this function formats details of a speech suitable for a title\n",
    "def getEudociaSpeechTitle(seq):\n",
    "    '''Generate a string representing the speech'''\n",
    "\n",
    "    spkr, addr, l_fi = df.groupby('eud_seq').agg('first').loc[seq, ['eud_spkr', 'eud_addr_all', 'eud_line']]\n",
    "    l_la = df.groupby('eud_seq').agg('last').loc[seq, 'eud_line']\n",
    "\n",
    "    return f'Eud. Hom. {l_fi}-{l_la}: {spkr} to {addr}'\n"
   ]
  },
  {
   "cell_type": "code",
   "execution_count": null,
   "id": "b147e528-e977-4eb9-ba22-014068dc9994",
   "metadata": {},
   "outputs": [],
   "source": [
    "# this custom function is used to plot speeches by their position in Eudocia\n",
    "def plotEudociaSpeech(seq, aspect=1.4, output_file=None):\n",
    "    '''Generate a plot showing the source speaker and deceptiveness\n",
    "       for each line of a speech in Eudocia'''\n",
    "    \n",
    "    # select colours\n",
    "    pal = [\n",
    "        (0.3400, 0.8288, 0.8600), # cyan\n",
    "        (0.3127, 0.6929, 0.1924), # green\n",
    "        (0.8288, 0.8600, 0.3400), # yellow\n",
    "        (0.8600, 0.3712, 0.3400), # red\n",
    "    ]\n",
    "\n",
    "    # draw plot\n",
    "    ax = sns.catplot(\n",
    "        data = df.loc[df['eud_seq']==seq], \n",
    "        x = 'eud_line', \n",
    "        y = 'hom_spkr', \n",
    "        hue = 'dec_line', \n",
    "        kind = 'swarm',\n",
    "        palette = pal,\n",
    "        aspect = aspect,\n",
    "    )\n",
    "\n",
    "    # add axis labels, title\n",
    "    ax.set(\n",
    "        xlabel = 'Eudocia line',\n",
    "        ylabel = 'Homeric speaker',\n",
    "        title = getEudociaSpeechTitle(seq),\n",
    "    )\n",
    "\n",
    "    # position legend\n",
    "    sns.move_legend(\n",
    "        ax, \"upper right\",\n",
    "        title = 'Deception',\n",
    "        frameon = True,\n",
    "        bbox_to_anchor=(1, 1)\n",
    "    )\n",
    "\n",
    "    # optional: save to file\n",
    "    if filename is not None:\n",
    "        plt.savefig(filename)\n",
    "\n",
    "    # display\n",
    "    plt.show()"
   ]
  },
  {
   "cell_type": "markdown",
   "id": "73f8a36a-027e-4614-a3f9-d6df69a9ad05",
   "metadata": {},
   "source": [
    "#### Example 1: The speech of the Snake to Eve"
   ]
  },
  {
   "cell_type": "code",
   "execution_count": null,
   "id": "3ce1d00c-c53d-49f6-a65c-4aa3e58b8eb3",
   "metadata": {},
   "outputs": [],
   "source": [
    "filename = os.path.join('output', 'fig_ex_1.pdf')\n",
    "plotEudociaSpeech(1, aspect=1.6, output_file=filename)"
   ]
  },
  {
   "cell_type": "markdown",
   "id": "42421db9-2f5e-4ee1-aacd-c4b502655a7d",
   "metadata": {},
   "source": [
    "#### Example 3: The happy message of Easter"
   ]
  },
  {
   "cell_type": "code",
   "execution_count": null,
   "id": "3d39f5c8-5a8b-42ad-9532-a2cc281a113d",
   "metadata": {},
   "outputs": [],
   "source": [
    "filename = os.path.join('output', 'fig_ex_3.pdf')\n",
    "plotEudociaSpeech(83, aspect=1.6, output_file=filename)"
   ]
  },
  {
   "cell_type": "markdown",
   "id": "a27dc68e-758d-4cf4-ace5-1373cc36575e",
   "metadata": {},
   "source": [
    "#### Example 4: The annointing of Jesus"
   ]
  },
  {
   "cell_type": "code",
   "execution_count": null,
   "id": "04e25c47-f36a-468d-aaf1-e1dd0aae74ee",
   "metadata": {},
   "outputs": [],
   "source": [
    "filename = os.path.join('output', 'fig_ex_4.pdf')\n",
    "plotEudociaSpeech(47, output_file=filename)"
   ]
  },
  {
   "cell_type": "markdown",
   "id": "234c09c2-9c64-47e0-a238-c107cd546598",
   "metadata": {},
   "source": [
    "### Interactive\n",
    "\n",
    "Use the interactive pane below to explore other speeches of Eudocia."
   ]
  },
  {
   "cell_type": "code",
   "execution_count": null,
   "id": "c14a8271-e9d6-41d4-9df1-6943eb08ac5d",
   "metadata": {},
   "outputs": [],
   "source": [
    "dropdown = [(getEudociaSpeechTitle(seq), seq) for seq in df['eud_seq'].unique()]\n",
    "interactive_plot = interactive(plotEudociaSpeech, \n",
    "    seq=dropdown, aspect=fixed(1.4), output_file=fixed(None))\n",
    "display(interactive_plot)"
   ]
  }
 ],
 "metadata": {
  "kernelspec": {
   "display_name": "Python 3 (ipykernel)",
   "language": "python",
   "name": "python3"
  },
  "language_info": {
   "codemirror_mode": {
    "name": "ipython",
    "version": 3
   },
   "file_extension": ".py",
   "mimetype": "text/x-python",
   "name": "python",
   "nbconvert_exporter": "python",
   "pygments_lexer": "ipython3",
   "version": "3.11.7"
  }
 },
 "nbformat": 4,
 "nbformat_minor": 5
}
